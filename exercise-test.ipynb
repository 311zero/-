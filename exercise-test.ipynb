{
 "cells": [
  {
   "cell_type": "code",
   "execution_count": null,
   "metadata": {
    "collapsed": true
   },
   "outputs": [],
   "source": [
    "import torch.nn as nn\n",
    "import sys\n",
    "import torch\n",
    "import numpy as np\n",
    "import tensorflow as tf\n",
    "print(sys.arg[0])"
   ]
  },
  {
   "cell_type": "markdown",
   "metadata": {},
   "source": [
    "## 1.寻找100以内的质数\n",
    "### 定义：一个大于1的自然数，除了1和它自身外，不能被其他自然数整除的数叫做质数\n",
    "### 定理1：从2开始到比自己小的数都不能被整除（2是质数，除外）\n",
    "### 定理2: 一个合数一定可以分解成几个质数的乘积，也就是说，一个数如果能被一个质数整除就是合数"
   ]
  },
  {
   "cell_type": "code",
   "execution_count": 6,
   "metadata": {},
   "outputs": [
    {
     "name": "stdout",
     "output_type": "stream",
     "text": [
      "2 3 5 7 11 13 17 19 23 29 31 37 41 43 47 53 59 61 67 71 73 79 83 89 97 "
     ]
    }
   ],
   "source": [
    "# 使用定理1的方法\n",
    "#方法1\n",
    "n = 100\n",
    "for i in range(2, n):\n",
    "    for j in range(2, i):\n",
    "        if i % j == 0:\n",
    "            break\n",
    "    else:\n",
    "        print(i, end=' ')"
   ]
  },
  {
   "cell_type": "code",
   "execution_count": 6,
   "metadata": {},
   "outputs": [
    {
     "name": "stdout",
     "output_type": "stream",
     "text": [
      "2 3 5 7 11 13 17 19 23 29 31 37 41 43 47 53 59 61 67 71 73 79 83 89 97 "
     ]
    }
   ],
   "source": [
    "#方法2\n",
    "n = 100\n",
    "print(2,end=' ')\n",
    "# 第一层循环的i取值时，因为偶数确定不是质数，所以排除偶数，使用range()函数排除偶数，range(3, n, 2)这样就减少了一半的数。\n",
    "for i in range(3, n, 2):\n",
    "    # 第二层循环j取值时，考虑从2开始到i开平方取值，同时也把偶数排除range(3, int(i**0.5)+1, 2)这样也可减少一半的数。2就是质数，单独打印。\n",
    "    for j in range(3, int(i**0.5)+1, 2):\n",
    "        if i % j == 0:\n",
    "            break\n",
    "    else:\n",
    "        print(i, end=' ')"
   ]
  },
  {
   "cell_type": "code",
   "execution_count": null,
   "metadata": {
    "collapsed": true
   },
   "outputs": [],
   "source": [
    "#方法3\n",
    "# 在（2）的基础上还有优化的点，发现第一层循环i取值时，当i>10时，5的倍数也可排除。\n",
    "n = 100\n",
    "print(2,end=' ')\n",
    "for i in range(3, n, 2):\n",
    "    if i >10 and i %5 ==0:  # 可以先过滤一些数据\n",
    "        continue\n",
    "    for j in range(3, int(i**0.5)+1, 2):\n",
    "        if i % j == 0:\n",
    "            break\n",
    "    else:\n",
    "        print(i, end=' ')"
   ]
  },
  {
   "cell_type": "code",
   "execution_count": 7,
   "metadata": {},
   "outputs": [
    {
     "name": "stdout",
     "output_type": "stream",
     "text": [
      "[2, 3, 5, 7, 11, 13, 17, 19, 23, 29, 31, 37, 41, 43, 47, 53, 59, 61, 67, 71, 73, 79, 83, 89, 97]\n"
     ]
    }
   ],
   "source": [
    "# 使用定理2的方法，一个数如果能被一个质数整除就是合数\n",
    "\n",
    "# 方法1, 用列表保存上一次的运算结果。\n",
    "n = 100\n",
    "L = [2]\n",
    "for i in range(3, n, 2):\n",
    "    for j in L:\n",
    "        if i % j == 0:  \n",
    "            break\n",
    "    else:\n",
    "        L.append(i)\n",
    "print(L)  \n"
   ]
  },
  {
   "cell_type": "code",
   "execution_count": 9,
   "metadata": {},
   "outputs": [
    {
     "name": "stdout",
     "output_type": "stream",
     "text": [
      "[2, 3, 5, 7, 11, 13, 17, 19, 23, 29, 31, 37, 41, 43, 47, 53, 59, 61, 67, 71, 73, 79, 83, 89, 97]\n"
     ]
    }
   ],
   "source": [
    "# 方法2\n",
    "# 方法1写法的效率不高，第一层循环的i没必要与列表中的每一个元素取余，只需要从2开始到i的开平方处之间的数取余即可\n",
    "n  =100\n",
    "L = [2]\n",
    "for i in range(3, n, 2):\n",
    "    flag = False\n",
    "    for j in L:\n",
    "        if i % j == 0:\n",
    "            flag = True\n",
    "            break\n",
    "        if j > int(i**0.5):\n",
    "            break\n",
    "    if not flag:\n",
    "        L.append(i)\n",
    "print(L)"
   ]
  },
  {
   "cell_type": "code",
   "execution_count": 10,
   "metadata": {},
   "outputs": [
    {
     "name": "stdout",
     "output_type": "stream",
     "text": [
      "[2, 3, 5, 7, 11, 13, 17, 19, 23, 29, 31, 37, 41, 43, 47, 53, 59, 61, 67, 71, 73, 79, 83, 89, 97]\n"
     ]
    }
   ],
   "source": [
    "# 方法3\n",
    "# 优化之处：第二层循环第二个判断处if j > int(i**0.5)程序运行时，每次判断i都会开平方，所以提到循环之外。\n",
    "n  =100\n",
    "L = [2]\n",
    "for i in range(3, n, 2):\n",
    "    flag = False\n",
    "    media = int(i**0.5)  \n",
    "    for j in L:\n",
    "        if i % j == 0:\n",
    "            flag = True\n",
    "            break\n",
    "        if j > media:  # 这样就不会每次都进行开方操作\n",
    "            break\n",
    "    if not flag:\n",
    "        L.append(i)\n",
    "print(L)"
   ]
  },
  {
   "cell_type": "markdown",
   "metadata": {},
   "source": [
    "## 2.数组中出现次数超过一半的数字\n",
    "#### 题目：数组中有一个数字出现的次数超过数组长度的一半，请找出这个数字。例如输入一个长度为9的数组{1,2,3,2,2,2,5,4,2}。由于数字2在数组中出现了5次，超过数组长度的一半，因此输出2。如果不存在则输出0"
   ]
  },
  {
   "cell_type": "code",
   "execution_count": 20,
   "metadata": {},
   "outputs": [
    {
     "data": {
      "text/plain": [
       "7"
      ]
     },
     "execution_count": 20,
     "metadata": {},
     "output_type": "execute_result"
    }
   ],
   "source": [
    "a={3:5,\"8\":1,\"5\":7}\n",
    "a=sorted(a.items(),key=lambda x:x[1])[-1]\n",
    "a[1]"
   ]
  },
  {
   "cell_type": "code",
   "execution_count": null,
   "metadata": {},
   "outputs": [
    {
     "name": "stdout",
     "output_type": "stream",
     "text": [
      "1 2 3 2 2 2 5 4 2\n",
      "aaaaa (2, 5)\n",
      "2\n"
     ]
    }
   ],
   "source": [
    "# 方法1;常见方法,使用字典的方法\n",
    "def MoreThanHalfNum_Solution(numbers):\n",
    "    len1 = len(numbers)\n",
    "    if len1==0:\n",
    "        return 0\n",
    "    a={}\n",
    "    for i in numbers:\n",
    "        if not a.get(i):\n",
    "            a[i]=1\n",
    "        else:\n",
    "            a[i]+=1\n",
    "    a=sorted(a.items(),key=lambda x:x[1])[-1]  # 选出出现次数 最多的那一组\n",
    "    print('aaaaa',a)\n",
    "    if a[1]>len1//2:\n",
    "        return int(a[0])\n",
    "    else:\n",
    "        return 0\n",
    " \n",
    " \n",
    "if __name__ == '__main__':\n",
    "    try:\n",
    "        while True:\n",
    "            arr = [int(i) for i in input().split()]\n",
    "            print(MoreThanHalfNum_Solution(arr))\n",
    "    except:\n",
    "        pass"
   ]
  },
  {
   "cell_type": "code",
   "execution_count": 23,
   "metadata": {},
   "outputs": [
    {
     "name": "stdout",
     "output_type": "stream",
     "text": [
      "1 2 3  4 5  66 7 7  788   5555  44444 2 2 22 2 2 2 2 2 2\n",
      "0\n",
      "2 3 2 2 2 2 2 2 2 2 2 2 2 22 2 \n",
      "2\n"
     ]
    }
   ],
   "source": [
    "# 方法2:时间复杂度为O(NlogN)\n",
    "# 数组排序后，如果符合条件的数存在，则一定是数组中间那个数。这种方法虽然容易理解，但由于涉及到快排sort，其时间复杂度为O(NlogN)并非最优\n",
    "def MoreThanHalfNum_Solution(numbers):\n",
    "    len1 = len(numbers)\n",
    "    if len1==0:\n",
    "        return 0\n",
    "    numbers.sort() # 排序\n",
    "    middle = numbers[len1 // 2] #取排序后的中位数\n",
    " \n",
    "    # 判断middle是否符合条件，即出现次数大于数组长度的一半\n",
    "    counts = 0\n",
    "    for j in range(len1):\n",
    "        if numbers[j] == middle:\n",
    "            counts += 1\n",
    "    if counts>len1//2: # python3整除为//，python2为/\n",
    "        return middle\n",
    "    else:\n",
    "        return 0\n",
    " \n",
    " \n",
    "if __name__ == '__main__':\n",
    "    try:\n",
    "        while True:\n",
    "            arr = [int(i) for i in input().split()]\n",
    "            print(MoreThanHalfNum_Solution(arr))\n",
    "    except:\n",
    "        pass\n"
   ]
  },
  {
   "cell_type": "code",
   "execution_count": 25,
   "metadata": {},
   "outputs": [
    {
     "name": "stdout",
     "output_type": "stream",
     "text": [
      "1 1 1 1 3 3 4 5 5 1 1  1 1 1 1 1 \n",
      "1\n",
      "1 2 3 4 5 6  8 9\n",
      "0\n",
      "1 2 34 4 \n"
     ]
    }
   ],
   "source": [
    "# 方法3：时间复杂度为O(N)\n",
    "# 如果有符合条件的数字，则它出现的次数比其他所有数字出现的次数和还要多。\n",
    "def MoreThanHalfNum_Solution(numbers):\n",
    "    len1 = len(numbers)\n",
    "    if len1==0:\n",
    "        return 0\n",
    "\n",
    "    # 遍历每个元素，并记录次数；若与前一个元素相同，则次数加1，否则次数减1\n",
    "    target = numbers[0] # 初始值\n",
    "    count = 1 # 次数\n",
    "    for i in range(1,len1):\n",
    "        if count == 0:\n",
    "            # 更新result的值为当前元素，并置次数为1\n",
    "            target = numbers[i]\n",
    "            count = 1\n",
    "        elif numbers[i] == target:\n",
    "            count += 1 # 相同则加1\n",
    "        elif numbers[i] != target:\n",
    "            count -= 1 # # 不同则加1\n",
    "\n",
    "    # 判断target是否符合条件，即出现次数大于数组长度的一半\n",
    "    if count > 0:\n",
    "        count = 0\n",
    "        for j in range(len1):\n",
    "            if numbers[j] == target:\n",
    "                count += 1\n",
    "        if count>len1//2: # python3整除为//，python2为/\n",
    "            return target\n",
    "        else:\n",
    "            return 0\n",
    "    else:\n",
    "        return 0\n",
    " \n",
    " \n",
    "if __name__ == '__main__':\n",
    "    try:\n",
    "        while True:\n",
    "            arr = [int(i) for i in input().split()]\n",
    "            print(MoreThanHalfNum_Solution(arr))\n",
    "    except:\n",
    "        pass"
   ]
  },
  {
   "cell_type": "markdown",
   "metadata": {},
   "source": [
    "## 3.无重复字符的最长子串-Python实现\n",
    "#### 题目：给定一个字符串，请你找出其中不含有重复字符的 最长子串 的长度"
   ]
  },
  {
   "cell_type": "code",
   "execution_count": 32,
   "metadata": {},
   "outputs": [
    {
     "name": "stdout",
     "output_type": "stream",
     "text": [
      "4 fasd\n"
     ]
    }
   ],
   "source": [
    "# 方法1  暴力解法，就是按位递增依次检查子串是否重复，并记下目前最大的子串长度，如果重复就从下一位索引处的字符开始重新检查\n",
    "def lengthOfLongestSubstring(s):\n",
    "    \"\"\"\n",
    "    :type s: str\n",
    "    :rtype: int\n",
    "    \"\"\"\n",
    "    # 存储历史循环中最长的子串长度\n",
    "    max_len = 0\n",
    "    # 最长子串最后一个字符所在的位置\n",
    "    max_index = 0\n",
    "    # 判断传入的字符串是否为空\n",
    "    if s is None or len(s) == 0:\n",
    "        return max_len, max_index\n",
    "    # 定义一个字典，存储不重复的字符和字符所在的下标\n",
    "    str_dict = {}\n",
    "    # 存储每次循环中最长的子串长度\n",
    "    one_max = 0\n",
    "    # 记录最近重复字符所在的位置+1\n",
    "    start = 0\n",
    "    for i in range(len(s)):\n",
    "        # 判断当前字符是否在字典中和当前字符的下标是否大于等于最近重复字符的所在位置\n",
    "        if s[i] in str_dict and str_dict[s[i]] >= start:\n",
    "            # 记录当前字符的值+1\n",
    "            start = str_dict[s[i]] + 1\n",
    "            # print start\n",
    "        # 在此次循环中，最大的不重复子串的长度\n",
    "        one_max = i - start + 1\n",
    "        # 把当前位置覆盖字典中的位置\n",
    "        str_dict[s[i]] = i\n",
    "        # 比较此次循环的最大不重复子串长度和历史循环最大不重复子串长度\n",
    "        if one_max > max_len:\n",
    "            max_len = one_max\n",
    "            max_index = i\n",
    "        max_len = max(max_len, one_max)\n",
    "    return max_len, max_index\n",
    "s='pwwssffasdf'\n",
    "max_len, max_index = lengthOfLongestSubstring(s)\n",
    "\n",
    "print(max_len, s[max_index-max_len+1:max_index+1])"
   ]
  },
  {
   "cell_type": "markdown",
   "metadata": {},
   "source": [
    "## 4.斐波那契数列\n",
    "#### 斐波那契数列的特征：f2=f1=1，fn=fn-1 + fn-2 ; n>=3   例如：1, 1, 2, 3, 5, 8, 13, 21, 34, 55, 89, 144, 233, ..."
   ]
  },
  {
   "cell_type": "code",
   "execution_count": 71,
   "metadata": {
    "collapsed": true
   },
   "outputs": [],
   "source": [
    "from time import time\n",
    "import numpy as np"
   ]
  },
  {
   "cell_type": "code",
   "execution_count": 70,
   "metadata": {},
   "outputs": [
    {
     "name": "stdout",
     "output_type": "stream",
     "text": [
      "1 1 2 3 5 8 13 21 34 55 89 144 233 377 610 987 1597 2584 4181 6765 10946 17711 28657 46368 75025 121393 196418 317811 514229 832040 1346269 2178309 3524578 5702887 \n",
      "cost= 8.954533576965332\n"
     ]
    }
   ],
   "source": [
    "# 方法1 定义法 但是效率最低：O(1.618^n)\n",
    "# 该方法也适合产生类斐波那契数列\n",
    "a=time()\n",
    "def fb(n):\n",
    "    if n==1 or n==2:\n",
    "        return 1\n",
    "    return fb(n-1)+fb(n-2)\n",
    "for i in range(1,35):\n",
    "    print(fb(i), end=' ')\n",
    "print('\\ncost=',time()-a)"
   ]
  },
  {
   "cell_type": "code",
   "execution_count": 69,
   "metadata": {},
   "outputs": [
    {
     "name": "stdout",
     "output_type": "stream",
     "text": [
      "1 1 2 3 5 8 13 21 34 55 89 144 233 377 610 987 1597 2584 4181 6765 10946 17711 28657 46368 75025 121393 196418 317811 514229 832040 1346269 2178309 3524578 5702887 \n",
      "cost= 0.007993936538696289\n"
     ]
    }
   ],
   "source": [
    "# 方法2 递归方法相比方法1效率提升巨大\n",
    "# 该方法也适合产生类斐波那契数列\n",
    "b=time()\n",
    "def fb(n,s=(1,1)):\n",
    "    if n==1:\n",
    "        return s[0]\n",
    "    a,b = s\n",
    "    return fb(n-1,s=(b, a+b))\n",
    "for i in range(1,35):\n",
    "    print(fb(i),end=' ')\n",
    "print('\\ncost=',time()-b)"
   ]
  },
  {
   "cell_type": "code",
   "execution_count": 68,
   "metadata": {},
   "outputs": [
    {
     "name": "stdout",
     "output_type": "stream",
     "text": [
      "1 2 3 5 8 13 21 34 55 89 144 233 377 610 987 1597 2584 4181 6765 10946 17711 28657 46368 75025 121393 196418 317811 514229 832040 1346269 2178309 3524578 5702887 9227465 \n",
      "cost= 0.01581287384033203\n"
     ]
    }
   ],
   "source": [
    "# 方法3 递推法，线性时间消耗 O(n)\n",
    "# 该方法也适合产生类斐波那契数列\n",
    "c=time()\n",
    "def fb(n):\n",
    "    a,b=1,1\n",
    "    for _ in range(n):\n",
    "        a,b = b, a+b\n",
    "    return a\n",
    "for i in range(1,35):\n",
    "    print(fb(i),end=' ')\n",
    "print('\\ncost=',time()-c)"
   ]
  },
  {
   "cell_type": "code",
   "execution_count": 72,
   "metadata": {},
   "outputs": [
    {
     "name": "stdout",
     "output_type": "stream",
     "text": [
      "1 1 2 3 5 8 13 21 34 55 89 144 233 377 610 987 1597 2584 4181 6765 10946 17711 28657 46368 75025 121393 196418 317811 514229 832040 1346269 2178309 3524578 5702887 \n",
      "cost= 0.0054073333740234375\n"
     ]
    }
   ],
   "source": [
    "# 方法4 矩阵方法，时间消耗O(logn),最小消耗\n",
    "# 该方法只适合产生斐波那契数列\n",
    "d=time()\n",
    "def fb(n):\n",
    "    A = np.matrix([[1,1],[1,0]])\n",
    "    return pow(A,n)[0,1]\n",
    "for i in range(1,35):\n",
    "    print(fb(i),end=' ')\n",
    "print('\\ncost=',time()-d)"
   ]
  },
  {
   "cell_type": "code",
   "execution_count": 87,
   "metadata": {},
   "outputs": [
    {
     "name": "stdout",
     "output_type": "stream",
     "text": [
      "1\n",
      "2\n",
      "9 8 7 6 5 4 3 2 1 "
     ]
    }
   ],
   "source": [
    "# 反转链表\n",
    "class Node:\n",
    "    def __init__(self,data=None,nod=None):\n",
    "        self.data = data\n",
    "        self.next = nod\n",
    "        \n",
    "def rev(link):\n",
    "    pre = link\n",
    "    cur = link.next\n",
    "    pre.next = None\n",
    "    while cur:\n",
    "        temp  = cur.next\n",
    "        cur.next = pre\n",
    "        pre = cur\n",
    "        cur = temp\n",
    "    return pre\n",
    "\n",
    "if __name__ == '__main__':\n",
    "    link = Node(1,Node(2,Node(3,Node(4,Node(5,Node(6,Node(7,Node(8,Node(9)))))))))\n",
    "    print(link.data)\n",
    "    print(link.next.data)\n",
    "    root = rev(link)\n",
    "    while root:\n",
    "        print(root.data,end=' ')\n",
    "        root=root.next\n",
    "#     print(link.data)"
   ]
  },
  {
   "cell_type": "code",
   "execution_count": 88,
   "metadata": {},
   "outputs": [
    {
     "name": "stdout",
     "output_type": "stream",
     "text": [
      "[0, 1]\n"
     ]
    }
   ],
   "source": [
    "# Two Sum 给定一个列表和目标值，找出列表里面两个数使得相加为目标值\n",
    "class Solution:\n",
    "    def twoSum(self,nums,target):\n",
    "        \"\"\"\n",
    "        :type nums: List[int]\n",
    "        :type target: int\n",
    "        :rtype: List[int]\n",
    "        \"\"\"\n",
    "        d = {}\n",
    "        size = 0\n",
    "        while size < len(nums):\n",
    "            if target-nums[size] in d:\n",
    "                if d[target-nums[size]] <size:\n",
    "                    return [d[target-nums[size]],size]\n",
    "            else:\n",
    "                d[nums[size]] = size\n",
    "            size = size +1\n",
    "solution = Solution()\n",
    "list = [2,7,11,15]\n",
    "target = 9\n",
    "nums = solution.twoSum(list,target)\n",
    "print(nums)"
   ]
  },
  {
   "cell_type": "markdown",
   "metadata": {},
   "source": [
    "## 排序算法\n",
    "@[TOC]  \n",
    "\n",
    "1.冒泡法排序  \n",
    "2.快速排序  \n",
    "3.简单选择排序  \n",
    "4.堆排序  \n",
    "5.直接插入排序  \n",
    "6.希尔排序  \n",
    "7.归并排序，强调其非递归方法使用  \n",
    "***以上7种是基本排序***  \n",
    "8.基数排序  \n",
    "9.计数排序  \n",
    "10.桶排序  "
   ]
  },
  {
   "cell_type": "markdown",
   "metadata": {},
   "source": [
    "### 简单排序中的 冒泡排序\n",
    "**思想：**两两相邻数值比较，如果逆序则交换，直到没有逆序的记录为止;   \n",
    "\n",
    "**复杂度分析：**最好的情况是待排序表是正序，不需要交换，复杂度是O(n)；最查情况待排序表是逆序，每次都要交换，复杂度是O(n^2);平均是O(n^2)。辅助空间O(1)"
   ]
  },
  {
   "cell_type": "code",
   "execution_count": 73,
   "metadata": {},
   "outputs": [
    {
     "name": "stdout",
     "output_type": "stream",
     "text": [
      "[17, 20, 26, 31, 44, 54, 55, 77, 93]\n"
     ]
    }
   ],
   "source": [
    "# Python 实现冒泡排序\n",
    "\"\"\"\n",
    "冒泡法的时间复杂度分析，最好的情况下就是已经是我们想要的排序好的，此时O(n)，\n",
    "最差的情况就是一开始是一个反序，此时O(n^2);平均来说是O(n^2)复杂度。\n",
    "\n",
    "所需的辅助空间只需要1个，即条件判断变量，辅助空间O(1)\n",
    "\n",
    "\"\"\"\n",
    "\n",
    "# 冒泡法得到从小到大的排序，但是每次排序完，得到最大的数在末尾\n",
    "def bubbleSort(alist):\n",
    "    for passnum in range(len(alist)-1, 0, -1):\n",
    "        for i in range(passnum):\n",
    "            if alist[i] > alist[i+1]:\n",
    "                alist[i], alist[i+1] = alist[i+1], alist[i]\n",
    "#         print('passnum=',passnum,alist)\n",
    "    return alist\n",
    "alist = [54,26,93,17,77,31,44,55,20]\n",
    "# print(bubbleSort(alist))\n",
    "\n",
    "# 改进的冒泡排序, 加入一个校验, 如果某次循环发现没有发生数值交换, 直接跳出循环\n",
    "def modiBubbleSort(alist):\n",
    "    exchange = True\n",
    "    passnum = len(alist) - 1\n",
    "    \"\"\" 优化：在上面的代码中添加了判断的条件 \"\"\"\n",
    "    while passnum >= 1 and exchange:  \n",
    "        exchange = False\n",
    "        for i in range(passnum):\n",
    "            if alist[i] > alist[i+1]:\n",
    "                alist[i], alist[i+1] = alist[i+1], alist[i]\n",
    "                exchange = True\n",
    "        passnum -= 1\n",
    "    return alist\n",
    "\n",
    "# print(modiBubbleSort(alist))\n",
    "\n",
    "# 冒泡法得到从大到小的排序\n",
    "def reverse_modiBubbleSort(alist):\n",
    "    exchange = True\n",
    "    passnum = len(alist) - 1\n",
    "    while passnum >= 1 and exchange:  # 在上面的代码中添加了判断的条件\n",
    "        exchange = False\n",
    "        for i in range(passnum):\n",
    "            if alist[i] < alist[i+1]: # 只需要在这里修改，如果不是顺序则交换\n",
    "                alist[i], alist[i+1] = alist[i+1], alist[i]\n",
    "                exchange = True\n",
    "        passnum -= 1\n",
    "    return alist\n",
    "\n",
    "# print(reverse_modiBubbleSort(alist))\n",
    "\n",
    "# 冒泡法得到从小到大的排序，但是每次排序完得到最小的数在前面\n",
    "def bubbleSort(alist):\n",
    "    n = len(alist)\n",
    "    i = 0\n",
    "    exchange = True\n",
    "    while i<n-1 and exchange:\n",
    "        exchange = False\n",
    "        for j in range(n-1,i,-1):\n",
    "            if alist[j] < alist[j-1]:\n",
    "                alist[j], alist[j-1] = alist[j-1], alist[j]\n",
    "                exchange = True\n",
    "        i+=1\n",
    "    return alist\n",
    "alist = [54,26,93,17,77,31,44,55,20]\n",
    "print(bubbleSort(alist))"
   ]
  },
  {
   "cell_type": "markdown",
   "metadata": {},
   "source": [
    "### 快速排序\n",
    "**思想：**通过一趟排序将代排记录分割成独立的前后两部分，其中一部分的值均比另一部分小，接着又可以分别对这两部分继续进行排序，从而达到整个序列有序。  \n",
    "\n",
    "**复杂度分析：**快速排序的时间性能取决于快速排序递归的深度。 最优的情况下，partition函数每次都划分很均匀（枢轴选取每次都是序列中间值），如果排序n个关键字，其递归树的深度就是log n ,时间复杂度为O(n log n)，最坏的情况下，待排序数列是正序或者逆序，其递归树就是一个颗斜树,深度为n，时间复杂度为O(n^2)，平均情况是O(n log n)。辅助空间为O(log n)~O(n)"
   ]
  },
  {
   "cell_type": "code",
   "execution_count": 63,
   "metadata": {},
   "outputs": [
    {
     "name": "stdout",
     "output_type": "stream",
     "text": [
      "[17, 20, 26, 31, 44, 54, 55, 77, 93]\n",
      "[-1, 0, 0, 0, 1, 2, 2, 3, 3, 4, 111]\n",
      "[-1, 0, 0, 0, 1, 2, 2, 3, 3, 4, 111]\n"
     ]
    }
   ],
   "source": [
    "# \n",
    "# coding: utf-8\n",
    "\n",
    "def quickSort(alist):\n",
    "    quickSortHelper(alist, 0, len(alist)-1)\n",
    "\n",
    "def quickSortHelper(alist, first, last):\n",
    "    if first < last:\n",
    "        splitPoint = partition(alist, first, last)\n",
    "\n",
    "        quickSortHelper(alist, first, splitPoint-1)\n",
    "        quickSortHelper(alist, splitPoint+1, last)\n",
    "\n",
    "#将数组分成两部分，大于等于pivotvlue和小于等于pivotvlue的两个分区，然后返回pivotvlue所在的位置，也就是分界位置\n",
    "def partition(alist, first, last):\n",
    "    \n",
    "    pivotvlue = alist[first]  # 选取枢轴\n",
    "\n",
    "    leftmark = first+1\n",
    "    rightmark = last\n",
    "    done = False\n",
    "\n",
    "    while not done:\n",
    "        while leftmark <= rightmark and alist[leftmark] <= pivotvlue: # bugfix: 先比较index, 不然数组会越界\n",
    "            leftmark += 1\n",
    "        while rightmark >= leftmark and alist[rightmark] >= pivotvlue:\n",
    "            rightmark -= 1\n",
    "\n",
    "        if leftmark > rightmark:\n",
    "            done = True\n",
    "        else:\n",
    "            alist[leftmark], alist[rightmark] = alist[rightmark], alist[leftmark]  # 已经优化完成，优化不必要的交换\n",
    "    alist[rightmark], alist[first] = alist[first], alist[rightmark]\n",
    "    return rightmark\n",
    "\n",
    "alist = [54,26,93,17,77,31,44,55,20]\n",
    "alist2 = [1]\n",
    "quickSort(alist)\n",
    "print(alist)\n",
    "\n",
    "\n",
    "if __name__ == \"__main__\":\n",
    "    test_data = [3,2,111,3,-1,0,0,1,0,2,4]\n",
    "\n",
    "    res_stable = sorted(test_data)\n",
    "    quickSort(test_data)\n",
    "    print(test_data)\n",
    "    print(res_stable)\n",
    "assert all(map(lambda x: x[0] == x[1], zip(res_stable, test_data)))"
   ]
  },
  {
   "cell_type": "code",
   "execution_count": 4,
   "metadata": {},
   "outputs": [
    {
     "name": "stdout",
     "output_type": "stream",
     "text": [
      "3 2\n"
     ]
    }
   ],
   "source": [
    "n,k=map(int,input().split())"
   ]
  },
  {
   "cell_type": "code",
   "execution_count": 5,
   "metadata": {},
   "outputs": [
    {
     "name": "stdout",
     "output_type": "stream",
     "text": [
      "3 2\n"
     ]
    }
   ],
   "source": [
    "print(n,k)"
   ]
  },
  {
   "cell_type": "code",
   "execution_count": 9,
   "metadata": {},
   "outputs": [
    {
     "name": "stdout",
     "output_type": "stream",
     "text": [
      "lenth= 27\n",
      "排序前: [54, 26, 93, 17, 77, 31, 44, 55, 20, 4, 5, 6, 7, 3, 33, 55, 88, 99, 101, 24, 900, 36, 27, 601, 458, 637, 25]\n",
      "排序后: [3, 4, 5, 6, 7, 17, 20, 24, 25, 26, 27, 31, 33, 36, 44, 54, 55, 55, 77, 88, 93, 99, 101, 458, 601, 637, 900]\n"
     ]
    }
   ],
   "source": [
    "# 优化快速排序\n",
    "# 1.当数组是小数组时（资料认为阈值为7，也有的认为50），采用简单排序中的直接插入排序是最好的（简单排序：冒泡<选择<插入）\n",
    "# 2.枢轴的选取对快速排序非常重要，这里采用三数取中法\n",
    "\n",
    "def quickSort(alist):\n",
    "    quickSortHelper(alist, 0, len(alist)-1)\n",
    "\n",
    "def quickSortHelper(alist, first, last):\n",
    "    if last-first>7:  # 这里选择阈值为7，大于7大小的序列称为大数组\n",
    "        splitPoint = partition(alist, first, last)\n",
    "\n",
    "        quickSortHelper(alist, first, splitPoint-1)\n",
    "        quickSortHelper(alist, splitPoint+1, last)\n",
    "    \n",
    "    else:\n",
    "        \"\"\"小数组采用直接插入排序\"\"\"\n",
    "        insert_sort(alist)\n",
    "    \n",
    "def insert_sort(alist): # 直接插入排序\n",
    "    for i in range(1,len(alist)):\n",
    "        key = alist[i]\n",
    "        j = i\n",
    "        while j>=1 and alist[j-1]>key:\n",
    "            alist[j]=alist[j-1]\n",
    "            j-=1\n",
    "        alist[j]=key\n",
    "\n",
    "\n",
    "#将数组分成两部分，大于等于pivotvlue和小于等于pivotvlue的两个分区，然后返回pivotvlue所在的位置，也就是分界位置\n",
    "def partition(alist, first, last):\n",
    "    \n",
    "    media=(last+first)//2\n",
    "    if alist[first] > alist[last]:\n",
    "        alist[first], alist[last] = alist[last], alist[first]  # 交换左右两端的数据，保证左端的数据较小\n",
    "    if alist[media] > alist[last]:\n",
    "        alist[media], alist[last] = alist[last], alist[media]  # 交换中间和右端的值，保证中间的小（都是为了排序成从小到大的顺序）\n",
    "    if alist[first]<alist[media]:\n",
    "        alist[first],alist[media] = alist[media],alist[first] # 此时得到了alist[media]<alist[first]<alist[last]  \n",
    "    \"\"\"优化了枢轴的选取\"\"\"\n",
    "    pivotvlue = alist[first]  \n",
    "\n",
    "    leftmark = first+1\n",
    "    rightmark = last\n",
    "    done = False\n",
    "\n",
    "    while not done:\n",
    "        while leftmark <= rightmark and alist[leftmark] <= pivotvlue: # bugfix: 先比较index, 不然数组会越界\n",
    "            leftmark += 1\n",
    "        while rightmark >= leftmark and alist[rightmark] >= pivotvlue:\n",
    "            rightmark -= 1\n",
    "\n",
    "        if leftmark > rightmark:\n",
    "            done = True\n",
    "        else:\n",
    "            alist[leftmark], alist[rightmark] = alist[rightmark], alist[leftmark]  # 已经优化完成，优化不必要的交换\n",
    "    alist[rightmark], alist[first] = alist[first], alist[rightmark] \n",
    "    return rightmark\n",
    "\n",
    "alist = [54,26,93,17,77,31,44,55,20,4, 5, 6, 7, 3, 33, 55, 88, 99, 101, 24,900,36,27,601,458,637,25]\n",
    "print('lenth=',len(alist))\n",
    "print('排序前:',alist)\n",
    "quickSort(alist)\n",
    "print('排序后:', alist)"
   ]
  },
  {
   "cell_type": "code",
   "execution_count": 9,
   "metadata": {},
   "outputs": [
    {
     "name": "stdout",
     "output_type": "stream",
     "text": [
      "2 3\n",
      "[2, 3] <class 'list'>\n"
     ]
    }
   ],
   "source": [
    "a=[int(i) for i in input().split()]\n",
    "print(a,type(a))"
   ]
  },
  {
   "cell_type": "code",
   "execution_count": 5,
   "metadata": {},
   "outputs": [
    {
     "data": {
      "text/plain": [
       "[3, 3, 3, 4, 5, 6, 7, 17, 20, 24]"
      ]
     },
     "execution_count": 5,
     "metadata": {},
     "output_type": "execute_result"
    }
   ],
   "source": [
    "class Solution:\n",
    "    def GetLeastNumbers_Solution(self, tinput, k):\n",
    "        # write code here\n",
    "        if not tinput or k>len(tinput):\n",
    "            return None\n",
    "        self.quicksort(tinput)\n",
    "        return tinput[:k]\n",
    "    def quicksort(self,alist):\n",
    "        self.quickSortHelper(alist, 0, len(alist)-1)\n",
    "    def quickSortHelper(self,alist,first,last):\n",
    "        if last-first>7:  # 这里选择阈值为7，大于7大小的序列称为大数组\n",
    "            splitPoint = self.partition(alist, first, last)\n",
    "\n",
    "            self.quickSortHelper(alist, first, splitPoint-1)\n",
    "            self.quickSortHelper(alist, splitPoint+1, last)\n",
    "    \n",
    "        else:\n",
    "            \"\"\"小数组采用直接插入排序\"\"\"\n",
    "            self.insert_sort(alist)\n",
    "    def insert_sort(self,alist):\n",
    "        for i in range(1,len(alist)):\n",
    "            key = alist[i]\n",
    "            j = i\n",
    "            while j>=1 and alist[j-1]>key:\n",
    "                alist[j]=alist[j-1]\n",
    "                j-=1\n",
    "            alist[j]=key\n",
    "    def partition(self,alist,first,last):\n",
    "        middle = (first+last)//2\n",
    "        if alist[first]>alist[last]:  # 交换左右两端的值，使最大值在右边\n",
    "            alist[first],alist[last]=alist[last],alist[first]\n",
    "        if alist[middle]>alist[last]:  # 使得中间值小于右边值\n",
    "            alist[middle],alist[last]=alistp[last],alist[middle]\n",
    "        if alist[middle]>alist[first]:  # 使得左端的值是三个值的中间值\n",
    "            alist[middle],alist[first]=alist[first],alist[middle]\n",
    "        p =alist[first]\n",
    "        left = first+1\n",
    "        right = last\n",
    "        done = False\n",
    "        while not done:\n",
    "            while left<=right and alist[left]<=p:\n",
    "                left+=1\n",
    "            while left<=right and alist[right]>=p:\n",
    "                right-=1\n",
    "            if left>right:\n",
    "                done = True\n",
    "            else:\n",
    "                alist[left],alist[right]=alist[right],alist[left]\n",
    "        alist[first],alist[right]=alist[right],alist[first]\n",
    "        return right\n",
    "A = Solution()\n",
    "alist = [54,26,93,17,77,31,44,55,20,4, 5, 6, 7, 3, 3,3,33, 55, 88, 99, 101, 24,900,36,27,601,458,637,25]\n",
    "k=10\n",
    "A.GetLeastNumbers_Solution(alist,k)"
   ]
  },
  {
   "cell_type": "code",
   "execution_count": 15,
   "metadata": {},
   "outputs": [
    {
     "name": "stdout",
     "output_type": "stream",
     "text": [
      "lenth= 27\n",
      "[900, 637, 601, 458, 101, 99, 93, 88, 77, 55, 55, 54, 44, 36, 33, 31, 27, 26, 25, 24, 20, 17, 7, 6, 5, 4, 3]\n"
     ]
    }
   ],
   "source": [
    "# 快速排序，从大到小的顺序\n",
    "def reverse_quick_sort(alist):\n",
    "    quickSortHelper(alist, 0, len(alist)-1)\n",
    "\n",
    "def quickSortHelper(alist, first, last):\n",
    "    if last-first>7:  # 这里选择阈值为7，大于7大小的序列称为大数组\n",
    "        splitPoint = partition(alist, first, last)\n",
    "\n",
    "        quickSortHelper(alist, first, splitPoint-1)\n",
    "        quickSortHelper(alist, splitPoint+1, last)\n",
    "    else:\n",
    "        \"\"\"小数组采用直接插入排序\"\"\"\n",
    "        insert_sort(alist)\n",
    "    \n",
    "def insert_sort(alist):  # 直接插入排序\n",
    "    for i in range(1,len(alist)):\n",
    "        key = alist[i]\n",
    "        j = i-1\n",
    "        while j>=0 and alist[j]<key:\n",
    "            alist[j+1]=alist[j]\n",
    "            j-=1\n",
    "        alist[j+1]=key\n",
    "\n",
    "#将数组分成两部分，大于等于pivotvlue和小于等于pivotvlue的两个分区，然后返回pivotvlue所在的位置，也就是分界位置\n",
    "def partition(alist, first, last):\n",
    "    \n",
    "    middle=(last+first)//2\n",
    "    if alist[first] < alist[last]:\n",
    "        alist[first], alist[last] = alist[last], alist[first]  # 交换左右两端的数据，保证左端的数据较大\n",
    "    if alist[middle] < alist[last]:\n",
    "        alist[middle], alist[last] = alist[last], alist[middle]  # 交换中间和右端的值，保证中间的（都是为了排序成从小到大的顺序）\n",
    "    if alist[first]>alist[middle]:\n",
    "        alist[first],alist[middle] = alist[middle],alist[first] # 此时得到了alist[media]<alist[first]<alist[last]  \n",
    "    \"\"\"优化了枢轴的选取\"\"\"\n",
    "    pivotvlue = alist[first]  \n",
    "\n",
    "    leftmark = first+1\n",
    "    rightmark = last\n",
    "    done = False\n",
    "\n",
    "    while not done:\n",
    "        while leftmark <= rightmark and alist[leftmark] >= pivotvlue: # bugfix: 先比较index, 不然数组会越界\n",
    "            leftmark += 1\n",
    "        while rightmark >= leftmark and alist[rightmark] <= pivotvlue:\n",
    "            rightmark -= 1\n",
    "\n",
    "        if leftmark > rightmark:\n",
    "            done = True\n",
    "        else:\n",
    "            alist[leftmark], alist[rightmark] = alist[rightmark], alist[leftmark]  # 已经优化完成，优化不必要的交换\n",
    "    alist[rightmark], alist[first] = alist[first], alist[rightmark]\n",
    "    return rightmark\n",
    "\n",
    "alist = [54,26,93,17,77,31,44,55,20,4, 5, 6, 7, 3, 33, 55, 88, 99, 101, 24,900,36,27,601,458,637,25]\n",
    "print('lenth=',len(alist))\n",
    "reverse_quick_sort(alist)\n",
    "print(alist)"
   ]
  },
  {
   "cell_type": "markdown",
   "metadata": {},
   "source": [
    "### 简单排序中的  选择排序\n",
    "**思想：**通过n-i次数值的比较，从n-i+1个数中选出最小的值，将该最小值和第i个数值交换。特点是交换数据次数非常少。  \n",
    "\n",
    "**复杂度分析：**不管是什么情况，比较次数都是一样的，但是对于交换次数来说：最好情况是正序不需要交换，最差情况是逆序，交换次数n-1次。但是时间复杂度都是O(n^2),最好和最差都是一样的。因此和冒泡法排序相比，在正序情况下，冒泡法排序是O(n)更加好，虽然平均都是O(n^2)，但是选择排序性能略好于冒泡法。"
   ]
  },
  {
   "cell_type": "code",
   "execution_count": 27,
   "metadata": {},
   "outputs": [
    {
     "name": "stdout",
     "output_type": "stream",
     "text": [
      "[17, 20, 26, 31, 44, 54, 55, 77, 93]\n",
      "[93, 77, 55, 54, 44, 31, 26, 20, 17]\n"
     ]
    }
   ],
   "source": [
    "# 选择排序算法，从小到大排序\n",
    "def select_sort(alist):\n",
    "    for i in range(len(alist)-1):\n",
    "        min = i\n",
    "        for j in range(i+1, len(alist)):\n",
    "            if alist[j] < alist[min]:\n",
    "                min = j\n",
    "        alist[i], alist[min] = alist[min], alist[i]\n",
    "    return alist\n",
    "\n",
    "alist = [54,26,93,17,77,31,44,55,20]\n",
    "print(select_sort(alist))\n",
    "\n",
    "# 从大到小的排序\n",
    "def reverse_select_sort(alist):\n",
    "    for i in range(len(alist)-1):\n",
    "        max = i\n",
    "        for j in range(i+1, len(alist)):\n",
    "            if alist[j] > alist[max]:\n",
    "                max = j\n",
    "        alist[i], alist[max] = alist[max], alist[i]\n",
    "    return alist\n",
    "\n",
    "alist = [54,26,93,17,77,31,44,55,20]\n",
    "print(reverse_select_sort(alist))\n"
   ]
  },
  {
   "cell_type": "markdown",
   "metadata": {},
   "source": [
    "### 堆排序算法\n",
    "**思想：**将待排序列构造成一个大顶堆（所有节点大于等于其子孩子）。此时整个序列的最大值是堆顶的根节点。将它移走，然后将将剩余的n-1个序列重新构造成一个堆，这样就得到ｎ个元素中的次大值。如此反复执行，便能得到一个有序序列。  \n",
    "\n",
    "**复杂度分析：**运行时间主要消耗在初始构建堆和重建堆（准确来说是微调堆）上面。最好情况，最坏情况，平均情况全部都是一样的为O(n log n),对原始记录的排序状态不敏感。在空间复杂度上面只使用一个用来交换的短暂单元（largest)为O(1)。同时，这是一个不稳定的排序方法，因为比较和交换是跳跃进行的。\n"
   ]
  },
  {
   "cell_type": "code",
   "execution_count": 50,
   "metadata": {},
   "outputs": [
    {
     "name": "stdout",
     "output_type": "stream",
     "text": [
      "排序后 [10, 20, 30, 40, 50, 60, 70, 80, 90]\n"
     ]
    }
   ],
   "source": [
    "# 堆排序是选择排序的改进，在最小堆里面选择出lagest，如果largest!=父节点,就父节点和该最大节点进行值交换；\n",
    "#  否则不交换。最后选择大顶堆的顶和尾进行交换。\n",
    "#  从小到大的排序\n",
    "def heap_sort(arr): \n",
    "    n = len(arr) \n",
    "  \n",
    "    # 初始构建一个最大堆\n",
    "    for i in range(n//2-1, -1, -1): # 0~n//2-1是有孩子的父节点\n",
    "        heapify(arr, n, i) \n",
    "  \n",
    "    # 一个个交换元素\n",
    "    for i in range(n-1, 0, -1): \n",
    "        arr[i], arr[0] = arr[0], arr[i]   # 交换\n",
    "        heapify(arr, i, 0) # 只需要调整根节点的堆，其余父节点的堆已经是符合要求的堆。而且完全二叉树的数目减小，将末节点排除在外。\n",
    "\n",
    "def heapify(arr, n, i): \n",
    "    largest = i  # 记录父子节点值最大所在的节点位置\n",
    "    l = 2 * i + 1     # left = 2*i + 1 左孩子节点\n",
    "    r = 2 * i + 2     # right = 2*i + 2 右孩子节点\n",
    "  \n",
    "    if l < n and arr[i] < arr[l]:  # 如果该孩子存在并且大于父节点的值\n",
    "        largest = l \n",
    "  \n",
    "    if r < n and arr[largest] < arr[r]: # 如果该孩子存在，并且是三个节点的最大值\n",
    "        largest = r \n",
    "  \n",
    "    if largest != i: \n",
    "        arr[i],arr[largest] = arr[largest],arr[i]  # 交换，使得父节点值最大\n",
    "  \n",
    "        heapify(arr, n, largest) # 对交换后的那个子节点，进行堆排序（因为如果该子节点是父节点的话，值变化，那么该最小堆可能要进行调整）\n",
    "  \n",
    "\n",
    "  \n",
    "arr = [ 50, 10, 90, 30, 70, 40, 80, 60, 20] \n",
    "heap_sort(arr) \n",
    "n = len(arr) \n",
    "print (\"排序后\",arr)"
   ]
  },
  {
   "cell_type": "code",
   "execution_count": 51,
   "metadata": {},
   "outputs": [
    {
     "name": "stdout",
     "output_type": "stream",
     "text": [
      "排序后 [90, 80, 70, 60, 50, 40, 30, 20, 10]\n"
     ]
    }
   ],
   "source": [
    "# 从大到小的排序\n",
    "def reverse_heap_sort(arr): \n",
    "    n = len(arr) \n",
    "  \n",
    "    # Build a maxheap. \n",
    "    for i in range(n//2-1, -1, -1): \n",
    "        heapify(arr, n, i) \n",
    "  \n",
    "    # 一个个交换元素\n",
    "    for i in range(n-1, 0, -1): \n",
    "        arr[i], arr[0] = arr[0], arr[i]   \n",
    "        heapify(arr, i, 0) \n",
    "\n",
    "def heapify(arr, n, i): \n",
    "    smallest = i  # 求堆中的最小位置\n",
    "    l = 2 * i + 1    \n",
    "    r = 2 * i + 2     \n",
    "  \n",
    "    if l < n and arr[i] > arr[l]:  # 如果该孩子存在并且小于父节点的值\n",
    "        smallest = l \n",
    "  \n",
    "    if r < n and arr[smallest] > arr[r]: # 如果该孩子存在，并且是三个节点的最小值\n",
    "        smallest = r \n",
    "  \n",
    "    if smallest != i: \n",
    "        arr[i],arr[smallest] = arr[smallest],arr[i]  # 交换，使得父节点值最小\n",
    "  \n",
    "        heapify(arr, n, smallest) # 对交换后的那个子节点，进行堆排序（因为如果该子节点是父节点的话，值变化，那么该最小堆可能要重新调整）\n",
    "  \n",
    "\n",
    "  \n",
    "arr = [ 50, 10, 90, 30, 70, 40, 80, 60, 20] \n",
    "reverse_heap_sort(arr) \n",
    "n = len(arr) \n",
    "print (\"排序后\",arr)"
   ]
  },
  {
   "cell_type": "markdown",
   "metadata": {},
   "source": [
    "### 简单排序中的  插入排序\n",
    "**思想：**将一个值插入到已经排好序的序列中，原来排好序的，只要大于该插入值就逐个往后移动，从而得到一个新的，记录增加1的有序表  \n",
    "\n",
    "**复杂度分析：** 当最好的情况下，序列是正序，则时间复杂度为O(n);当最坏情况，初始序列是逆序，则时间复杂度为O(n^2)；平均时间复杂度是O(n^2)。对于空间复杂度只使用一个短暂的交换单元（key变量）O(1)。  \n",
    "**简单排序的比较：** 简单排序，对于初始序列如果是正序的情况下，插入排序和冒泡排序的复杂度是一样的O(n),但是选择排序都是O(n^2)。在最坏情况下即逆序下，都是O(n^2)，但是如果给的序列是无序的随机序列，那么表现最好的是插入排序！"
   ]
  },
  {
   "cell_type": "code",
   "execution_count": 2,
   "metadata": {},
   "outputs": [
    {
     "name": "stdout",
     "output_type": "stream",
     "text": [
      "排序后的数组: [5, 6, 11, 12, 13]\n"
     ]
    }
   ],
   "source": [
    "# 插入排序算法，得到一个从小到大的有序序列\n",
    "def insert_sort(arr): \n",
    "    for i in range(1, len(arr)): \n",
    "        key = arr[i] \n",
    "        j = i\n",
    "        while j >=1 and key < arr[j-1] : # 如果前一个数大于该数，则将大的数向后移，同时索引比较的前一位下标\n",
    "                arr[j] = arr[j-1] \n",
    "                j -= 1\n",
    "        arr[j] = key # 将要插入你的数值插入对应位置，使得前面的数小于它。\n",
    "  \n",
    "  \n",
    "arr = [12, 11, 13, 5, 6] \n",
    "insert_sort(arr) \n",
    "print (\"排序后的数组:\",arr) \n",
    "\n"
   ]
  },
  {
   "cell_type": "code",
   "execution_count": 1,
   "metadata": {},
   "outputs": [
    {
     "name": "stdout",
     "output_type": "stream",
     "text": [
      "排序后的数组: [13, 12, 11, 6, 5]\n"
     ]
    }
   ],
   "source": [
    "# 得到一个从大到小的有序序列\n",
    "def insert_sort(arr): \n",
    "    for i in range(1, len(arr)): \n",
    "        key = arr[i] \n",
    "        j = i\n",
    "        while j >=1 and key > arr[j-1] : # 如果该数值比前面的数值大，那么将要插入的数值往前提，原来的数值往后移\n",
    "                arr[j] = arr[j-1] \n",
    "                j -= 1\n",
    "        arr[j] = key # 将要插入你的数值插入对应位置，使得前面的数小于它。\n",
    "  \n",
    "  \n",
    "arr = [12, 11, 13, 5, 6] \n",
    "insert_sort(arr) \n",
    "print (\"排序后的数组:\",arr) "
   ]
  },
  {
   "cell_type": "markdown",
   "metadata": {},
   "source": [
    "### 希尔排序算法\n",
    "**思想:** 直接插入排序对序列基本有序或者序列比较小的情况下效率非常高。  \n",
    "当有大量的数据需要排序时，可以将大量的数据分组成若干子序列，此时每个子序列的数据比较少，可以对每个子序列使用直接插入排序。  \n",
    "当整个序列基本有序时(基本有序：小的关键字基本在前，大的基本在后，不大不小的基本在中间)。再对整体的数据进行一次直接插入排序。  \n",
    "对原始数据进行分割的***目的***就是减少待排序数据的个数，使得整个序列朝着基本有序方向发展。  \n",
    "采用的***分割策略（关键）***是：将相距某个增量increment的数据组成一个子序列，实现跳跃式的移动，这样才能保证在子序列内分别进行直接插入排序后得到的结果是基本有序的。  \n",
    "\n",
    "**复杂度分析:**增量选取是关键，最简单的就是直接取半。希尔排序最好的情况，正序情况下为O(n^1.3);最坏情况是逆序情况为O(n^2),但是平均情况下时间复杂度为O(nlog n)~O(n^2)。辅助空间只需要一个短暂的交换单元（key变量）O(1)。  \n",
    "\n",
    "**这是第一次平均时间复杂度能超越简单排序(冒泡，选择，插入排序)的慢速排序时代（超越了时间复杂度为O(n^2）)**"
   ]
  },
  {
   "cell_type": "code",
   "execution_count": 4,
   "metadata": {},
   "outputs": [
    {
     "name": "stdout",
     "output_type": "stream",
     "text": [
      "排序前: [12, 34, 54, 2, 3]\n",
      "\n",
      "排序后: [2, 3, 12, 34, 54]\n"
     ]
    }
   ],
   "source": [
    "# 希尔排序算法\n",
    "def shell_sort(arr): \n",
    "    n = len(arr)\n",
    "    gap = int(n/2)  # 眼睛一闭，取一半就好了。。。。\n",
    "    while gap > 0: \n",
    "  \n",
    "        for i in range(gap,n): # 和插入排序的不同在于，初始为gap位置的值，直接插入排序是gap=1的特殊情况。\n",
    "  \n",
    "            key = arr[i] \n",
    "            j = i \n",
    "            while  j >= gap and arr[j-gap] >key: \n",
    "                arr[j] = arr[j-gap] \n",
    "                j -= gap \n",
    "            arr[j] = key \n",
    "        gap = int(gap/2)\n",
    "  \n",
    "arr = [ 12, 34, 54, 2, 3] \n",
    "  \n",
    "n = len(arr) \n",
    "print (\"排序前:\",arr) \n",
    "  \n",
    "shell_sort(arr) \n",
    "print (\"\\n排序后:\",arr) \n"
   ]
  },
  {
   "cell_type": "markdown",
   "metadata": {},
   "source": [
    "### 归并排序算法,考虑使用非递归方法\n",
    "**思想：**  使用归并的思想实现排序的方法。  \n",
    "原理是：假设待排序列长度为n,则可以看成n个有序的子序列，每个序列长度为1，然后两两归并，得到cell(n/2)个长度为2或者1的有序子序列；  \n",
    "再两两归并，如此重复，直至得到一个长度为n的有序序列为止，这种排序方法成为2路并归排序。归并法是分治法（Divide and Conquer）的一个非常典型的应用。   \n",
    "**复杂度分析：** 最好情况和最坏情况都是一样的都为O(n log n),所以平均时间复杂度为O(n log n)。但是对于空间复杂度来说，当归并算法使用**递归法**时的辅助空间复杂度为**O(n+log n)**;但是使用**非递归方法**时的辅助空间复杂度为**O(n)**。综合来说，空间复杂度是目前所有排序算法中最大的。从稳定性来说，归并算法是复杂排序算法中唯一稳定的。"
   ]
  },
  {
   "cell_type": "code",
   "execution_count": 68,
   "metadata": {},
   "outputs": [
    {
     "name": "stdout",
     "output_type": "stream",
     "text": [
      "给定的数组: [12, 11, 13, 5, 6, 7]\n",
      "\n",
      "\n",
      "排序后的数组: [5, 6, 7, 11, 12, 13]\n"
     ]
    }
   ],
   "source": [
    "# 归并排序算法 使用递归方法空间复杂度为O(n+log n)\n",
    "def merge_sort(arr):\n",
    "    merge_sort_helper(arr,0,len(arr)-1)\n",
    "    \n",
    "    \n",
    "def merge_sort_helper(arr,first,last): \n",
    "    if first < last: \n",
    "        middle = int((first+last)/2)  # 中间点的位置\n",
    "       \n",
    "        merge_sort_helper(arr, first, middle) # 对前半部分排序\n",
    "        merge_sort_helper(arr, middle+1, last)  # 对后半部分排序\n",
    "        merge(arr, first, middle, last)  # 将前后两个有序的部分进行排序\n",
    "    \n",
    "def merge(arr, first, middle, last): \n",
    "    # 由于要合并的两个有序序列可能是子序列的两个有序序列，因此first和last不固定为0和len(arr)-1\n",
    "    n1 = middle - first + 1 # 第一段有序序列的长度，是左边的一段：从first到middle下标的个数\n",
    "    n2 = last- middle # 另外一段有序序列的长度，从middle+1到last下标的个数\n",
    "  \n",
    "    # 创建临时数组\n",
    "    L = [0] * (n1)\n",
    "    R = [0] * (n2)\n",
    "  \n",
    "    # 拷贝数据到临时数组 arrays L[] 和 R[] \n",
    "    for i in range(0 , n1):   # 该赋值操作等价于：L=arr[first:midlle+1]切片赋值操作，是一种浅拷贝\n",
    "        L[i] = arr[first + i]   \n",
    "    \"\"\"切片赋值操作是一种浅拷贝操作，变量赋值操作是一种引用操作，\"\"\"\n",
    "    for i in range(0 , n2):  # 该赋值操作等价于：R=arr[midlle+1:last]\n",
    "        R[i] = arr[middle + 1 + i] \n",
    "  \n",
    "    # 归并临时数组到 arr[first, ..., last] \n",
    "    i = 0     # 初始化第一个子数组的索引\n",
    "    j = 0     # 初始化第二个子数组的索引\n",
    "    k = first     # 初始归并子数组的索引\n",
    "  \n",
    "    while i < n1 and j < n2 : \n",
    "        if L[i] <= R[j]: \n",
    "            arr[k] = L[i] \n",
    "            i += 1\n",
    "        else: \n",
    "            arr[k] = R[j] \n",
    "            j += 1\n",
    "        k += 1\n",
    "  \n",
    "    # 拷贝 L[] 的剩余的保留元素\n",
    "    while i < n1: \n",
    "        arr[k] = L[i] \n",
    "        i += 1\n",
    "        k += 1\n",
    "  \n",
    "    # 拷贝 R[] 的剩余的保留元素\n",
    "    while j < n2: \n",
    "        arr[k] = R[j] \n",
    "        j += 1\n",
    "        k += 1\n",
    "  \n",
    "arr = [12, 11, 13, 5, 6, 7] \n",
    "n = len(arr) \n",
    "print (\"给定的数组:\", arr) \n",
    "  \n",
    "merge_sort(arr) \n",
    "print (\"\\n\\n排序后的数组:\", arr) "
   ]
  },
  {
   "cell_type": "code",
   "execution_count": 1,
   "metadata": {},
   "outputs": [
    {
     "data": {
      "text/plain": [
       "7"
      ]
     },
     "execution_count": 1,
     "metadata": {},
     "output_type": "execute_result"
    },
    {
     "name": "stdout",
     "output_type": "stream",
     "text": [
      "The history saving thread hit an unexpected error (OperationalError('database or disk is full',)).History will not be written to the database.\n"
     ]
    }
   ],
   "source": []
  },
  {
   "cell_type": "code",
   "execution_count": 69,
   "metadata": {
    "collapsed": true
   },
   "outputs": [
    {
     "name": "stdout",
     "output_type": "stream",
     "text": [
      "给定的数组: [12, 11, 13, 5, 6, 7]\n",
      "\n",
      "\n",
      "排序后的数组(从大到小): [13, 12, 11, 7, 6, 5]\n"
     ]
    }
   ],
   "source": [
    "# 归并排序算法 从大到小\n",
    "def merge_sort(arr):\n",
    "    merge_sort_helper(arr,0,len(arr)-1)    \n",
    "    \n",
    "def merge_sort_helper(arr,first,last): \n",
    "    if first < last: \n",
    "        middle = int((first+last)/2)  # 中间点的位置\n",
    "       \n",
    "        merge_sort_helper(arr, first, middle) \n",
    "        merge_sort_helper(arr, middle+1, last) \n",
    "        merge(arr, first, middle, last)\n",
    "    \n",
    "def merge(arr, first, middle, last): \n",
    "    # 由于要合并的两个有序序列可能是子序列的两个有序序列，因此first和last不固定为0和len(arr)-1\n",
    "    n1 = middle - first + 1 # 第一段有序序列的长度，是左边的一段：从first到middle下标的个数\n",
    "    n2 = last- middle # 另外一段有序序列的长度，从middle+1到last下标的个数\n",
    "  \n",
    "    # 创建临时数组\n",
    "    L = [0] * (n1)\n",
    "    R = [0] * (n2)\n",
    "  \n",
    "    # 拷贝数据到临时数组 arrays L[] 和 R[] \n",
    "    for i in range(0 , n1):   # 该赋值操作等价于：L=arr[first:midlle+1]切片赋值操作，是一种浅拷贝\n",
    "        L[i] = arr[first + i]   \n",
    "    \"\"\"切片赋值操作是一种浅拷贝操作，变量赋值操作是一种引用操作，\"\"\"\n",
    "    for i in range(0 , n2):  # 该赋值操作等价于：R=arr[midlle+1:last]\n",
    "        R[i] = arr[middle + 1 + i] \n",
    "  \n",
    "    # 归并临时数组到 arr[first, ..., last] \n",
    "    i = 0     # 初始化第一个子数组的索引\n",
    "    j = 0     # 初始化第二个子数组的索引\n",
    "    k = first     # 初始归并子数组的索引\n",
    "  \n",
    "    while i < n1 and j < n2 : \n",
    "        if L[i] <= R[j]: \n",
    "            arr[k] = R[j] \n",
    "            j += 1\n",
    "        else: \n",
    "            arr[k] = L[i] \n",
    "            i += 1\n",
    "        k += 1\n",
    "  \n",
    "    # 拷贝 L[] 的保留元素\n",
    "    while i < n1: \n",
    "        arr[k] = L[i] \n",
    "        i += 1\n",
    "        k += 1\n",
    "  \n",
    "    # 拷贝 R[] 的保留元素\n",
    "    while j < n2: \n",
    "        arr[k] = R[j] \n",
    "        j += 1\n",
    "        k += 1\n",
    "  \n",
    "arr = [12, 11, 13, 5, 6, 7] \n",
    "n = len(arr) \n",
    "print (\"给定的数组:\", arr) \n",
    "  \n",
    "merge_sort(arr) \n",
    "print (\"\\n\\n排序后的数组(从大到小):\", arr) "
   ]
  },
  {
   "cell_type": "markdown",
   "metadata": {},
   "source": [
    "#### 当使用归并法时，尽量使用非递归方法\n",
    "使用非递归法的方法，避免了递归时深度为log n的栈空间，因此空间复杂度为o(n)，并且避免递归在时间性能上有一定的提升！"
   ]
  },
  {
   "cell_type": "code",
   "execution_count": 74,
   "metadata": {
    "collapsed": true
   },
   "outputs": [
    {
     "name": "stdout",
     "output_type": "stream",
     "text": [
      "序列状态 [5, 4, 3, 0, 1, 2, 7, 5, 11, 9, 6]\n",
      "step: 1\n",
      "mid: 1 high 2\n",
      "mid: 3 high 4\n",
      "mid: 5 high 6\n",
      "mid: 7 high 8\n",
      "mid: 9 high 10\n",
      "mid: 11 high 11\n",
      "序列状态 [4, 5, 0, 3, 1, 2, 5, 7, 9, 11, 6]\n",
      "step: 2\n",
      "mid: 2 high 4\n",
      "mid: 6 high 8\n",
      "mid: 10 high 11\n",
      "序列状态 [0, 3, 4, 5, 1, 2, 5, 7, 6, 9, 11]\n",
      "step: 4\n",
      "mid: 4 high 8\n",
      "mid: 12 high 11\n",
      "序列状态 [0, 1, 2, 3, 4, 5, 5, 7, 6, 9, 11]\n",
      "step: 8\n",
      "mid: 8 high 11\n",
      "[0, 1, 2, 3, 4, 5, 5, 6, 7, 9, 11]\n"
     ]
    }
   ],
   "source": [
    "# 不使用递归的归并法！！！！！！要掌握\n",
    "def merge_sort(arr):\n",
    "    step = 1\n",
    "    n = len(arr)\n",
    "    while step < n:\n",
    "        print('序列状态',arr)\n",
    "        print('step:',step)\n",
    "        low = 0\n",
    "        while low < n: # low可以取值n-1\n",
    "            mid = low + step\n",
    "            high = min(low + 2 * step, n)\n",
    "            print('mid:',mid,'high',high)\n",
    "            if mid < high:# 其他情况包括mid=high,mid>high,但是mid=high只有一种情况即step=1，low=n-1，此时mid=high=n。\n",
    "                merge(arr,low,mid,high)\n",
    "            low += 2*step\n",
    "        step *= 2\n",
    "\n",
    "def merge(arr,low,mid,height):\n",
    "    \"\"\"合并两个已排序好的列表，产生一个新的已排序好的列表\"\"\"\n",
    "    # 通过low,mid height 将[low:mid) [mid:height)提取出来\n",
    "    L = arr[low:mid]\n",
    "    R = arr[mid:height]\n",
    "\n",
    "    i = 0   # L的下标\n",
    "    j = 0   # R的下标\n",
    "    result = [] #保存本次排序好的内容\n",
    "    #将最小的元素依次添加到result数组中\n",
    "    while i < len(L) and j < len(R):\n",
    "        if L[i] <= R[j]:\n",
    "            result.append(L[i])\n",
    "            i += 1\n",
    "        else:\n",
    "            result.append(R[j])\n",
    "            j += 1\n",
    "    #将对比完后剩余的数组内容 添加到已排序好数组中\n",
    "    result += L[i:]\n",
    "    result += R[j:]\n",
    "    #将原始数组中[low:height)区间 替换为已经排序好的数组\n",
    "    arr[low:height] = result\n",
    "\n",
    "seq1 = [50, 10, 90, 30, 70, 40, 80, 60, 20]\n",
    "seq2 = [5, 4, 3, 0, 1, 2, 7, 5, 11, 9, 6]\n",
    "# merge_sort(seq1)\n",
    "# print(seq1)\n",
    "merge_sort(seq2)\n",
    "print(seq2)"
   ]
  },
  {
   "cell_type": "markdown",
   "metadata": {},
   "source": [
    "### 求逆序对的问题\n",
    "#### 在数组中的两个数字，如果前面一个数字大于后面的数字，则这两个数字组成一个逆序对。输入一个数组,求出这个数组中的逆序对的总数P。并将P对1000000007取模的结果输出。 即输出P%1000000007  \n",
    "例如：输入是1,2,3,4,5,6,7,0，那么输出：7"
   ]
  },
  {
   "cell_type": "code",
   "execution_count": 2,
   "metadata": {},
   "outputs": [
    {
     "data": {
      "text/plain": [
       "100"
      ]
     },
     "execution_count": 2,
     "metadata": {},
     "output_type": "execute_result"
    }
   ],
   "source": [
    "alist=[364,637,341,406,747,995,234,971,571,219,993,407,416,366,315,301,601,650,418,355,460,505,360,965,516,648,727,667,465,849,455,181,486,149,588,233,144,174,557,67,746,550,474,162,268,142,463,221,882,576,604,739,288,569,256,936,275,401,497,82,935,983,583,523,697,478,147,795,380,973,958,115,773,870,259,655,446,863,735,784,3,671,433,630,425,930,64,266,235,187,284,665,874,80,45,848,38,811,267,575]\n",
    "len(alist)"
   ]
  },
  {
   "cell_type": "code",
   "execution_count": 3,
   "metadata": {
    "collapsed": true
   },
   "outputs": [],
   "source": [
    "def InversePairs(data):\n",
    "    # write code here\n",
    "    if len(data)<1:\n",
    "        return 0\n",
    "    step = 1\n",
    "    n = len(data)\n",
    "    count = 0\n",
    "    while step<n:\n",
    "        low=0\n",
    "        while low<n:\n",
    "            middle = low+step\n",
    "            high = min(low+2*step,n)\n",
    "            if middle<high:\n",
    "                merge(data,low,middle,high,count)\n",
    "            low += 2*step\n",
    "        step *=2\n",
    "    return count\n",
    "def merge(alist,low,middle,high,count):\n",
    "    L=alist[low:middle]\n",
    "    R=alist[middle:high]\n",
    "    n1=middle-low\n",
    "    n2=high-middle\n",
    "    i=n1-1\n",
    "    j=n2-1\n",
    "    k=high-1\n",
    "    while i>=0 and j>=0:\n",
    "        if L[i]>R[j]:\n",
    "            alist[k]=L[i]\n",
    "            count += j+1\n",
    "            i -= 1\n",
    "            k -= 1\n",
    "        else:\n",
    "            alist[k]=R[j]\n",
    "            k -= 1\n",
    "            j -= 1\n",
    "    while i>=0:\n",
    "        alist[k]=L[i]\n",
    "        k -= 1\n",
    "        i -= 1\n",
    "    while j>=0:\n",
    "        alist[k]=R[j]\n",
    "        k -= 1\n",
    "        j -=1"
   ]
  },
  {
   "cell_type": "code",
   "execution_count": 5,
   "metadata": {
    "scrolled": true
   },
   "outputs": [
    {
     "name": "stdout",
     "output_type": "stream",
     "text": [
      "0\n"
     ]
    }
   ],
   "source": [
    "count = InversePairs(alist)\n",
    "print(count)"
   ]
  },
  {
   "cell_type": "markdown",
   "metadata": {},
   "source": [
    "## 二叉树的问题汇总"
   ]
  },
  {
   "cell_type": "code",
   "execution_count": null,
   "metadata": {
    "collapsed": true
   },
   "outputs": [],
   "source": [
    "给定二叉树T（树深度不超过H<=10，深度从1开始，节点个数N<1024，节点编号1~N）的层序和中序遍历，输出T从左向右叶子节点以及树先序和后序遍历序列\n",
    "输入两行，分别代表层序和中序遍历结果，节点编号按单个空格分开\n",
    "依次输出  从左向右叶子节点 ，先序， 后序 遍历 。 节点编号按空格分开\n",
    "例如：输入\n",
    "3 5 4 2 6 7 1\n",
    "2 5 3 6 4 7 1\n",
    "输出\n",
    "2 6 1\n",
    "3 5 2 4 6 7 1\n",
    "2 5 6 1 7 4 3"
   ]
  },
  {
   "cell_type": "code",
   "execution_count": 5,
   "metadata": {},
   "outputs": [
    {
     "name": "stdout",
     "output_type": "stream",
     "text": [
      "3 5 4 2 6 7 1\n",
      "2 5 3 6 4 7 1\n",
      "[[3], []] 1\n",
      "[[3], [5], []] 2\n",
      "[[3], [5], [2], []] 3\n",
      "[[3], [5, 4], [2, 6, 7], [1], []] 4\n",
      "叶子节点 2 6 1\n",
      "前序 3 5 2 4 6 7 1\n",
      "中序 2 5 3 6 4 7 1\n",
      "后序 2 5 6 1 7 4 3\n",
      "层序 [[3], [5, 4], [2, 6, 7], [1]]\n"
     ]
    }
   ],
   "source": [
    "\n",
    "class TreeNode(object):\n",
    "    def __init__(self, x):\n",
    "        self.left = None\n",
    "        self.right = None\n",
    "        self.val = x\n",
    "class Solution(object):\n",
    "    def __init__(self):\n",
    "        self.leaf = []\n",
    "    def creatTree(self, bfsorder, inorder):\n",
    "        \"\"\"\n",
    "        从中序遍历找出左右子树，然后再从序列层次遍历中找出左右子树序列，重建二叉树\n",
    "        :param bfsorder:\n",
    "        :param inorder:\n",
    "        :return:\n",
    "        \"\"\"\n",
    "        if len(bfsorder) < 1:\n",
    "            return\n",
    "        if len(bfsorder) == 1 and bfsorder[0] not in self.leaf:\n",
    "            self.leaf.append(bfsorder[0])\n",
    "            # print(self.leaf)\n",
    "        root = TreeNode(bfsorder[0])\n",
    "        root_index = inorder.index(root.val)  # 根节点在中序遍历的索引\n",
    "        left_in = inorder[:root_index]  # 中序遍历的左子树\n",
    "        right_in = inorder[root_index + 1:]  # 中序遍历的右子树\n",
    "        left_bsf = [x for x in bfsorder if x in left_in]  # 层次遍历的左子树、\n",
    "        right_bfs = [x for x in bfsorder if x in right_in]\n",
    "        root.left = self.creatTree(left_bsf, left_in)\n",
    "        root.right = self.creatTree(right_bfs, right_in)\n",
    "        return root\n",
    "    def preorder(self, root):  # 前序递归\n",
    "        if not root:\n",
    "            return []\n",
    "        return [root.val] + self.preorder(root.left) + self.preorder(root.right)\n",
    "    \n",
    "    def preorder_for(self,root):  # 前序循环：前左右\n",
    "        if not root:\n",
    "            return []\n",
    "        stack = [root]\n",
    "        result=[]\n",
    "        while len(stack)>0:\n",
    "            result.append(root.val)\n",
    "            if root.right is not None:\n",
    "                stack.append(root.right)\n",
    "            if root.left is not None:\n",
    "                stack.append(root.left)\n",
    "            root=stack.pop()\n",
    "        return result\n",
    "            \n",
    "    def inorder(self,root):  # 中序递归\n",
    "        if root is None:\n",
    "            return []\n",
    "        return self.inorder(root.left)+[root.val]+self.inorder(root.right)\n",
    "    \n",
    "    def inorder_for(self,root):  # 中序循环：左前右\n",
    "        if not root:\n",
    "            return []\n",
    "        stack=[]\n",
    "        pos = root\n",
    "        result=[]\n",
    "        while len(stack)>0 or pos:\n",
    "            if pos:\n",
    "                stack.append(pos)\n",
    "                pos=pos.left\n",
    "            else:\n",
    "                pos=stack.pop()\n",
    "                result.append(pos.val)\n",
    "                pos=pos.right\n",
    "        return result\n",
    "        \n",
    "    def postorder(self, root):  # 后序递归\n",
    "        if not root:\n",
    "            return []\n",
    "        return self.postorder(root.left) + self.postorder(root.right) + [root.val]\n",
    "    \n",
    "    def postorder_for(self, root):  # 后序循环：左右前\n",
    "        # 使用两个栈结构\n",
    "        # 第一个栈进栈顺序：左节点->右节点->跟节点\n",
    "        # 第一个栈弹出顺序： 跟节点->右节点->左节点(先序遍历栈弹出顺序：跟->左->右)\n",
    "        # 第二个栈存储为第一个栈的每个弹出依次进栈\n",
    "        # 最后第二个栈依次出栈\n",
    "        if not root:\n",
    "            return []\n",
    "        stack1=[root]\n",
    "        stack2=[]\n",
    "        result=[]\n",
    "        while len(stack1)>0:\n",
    "            root = stack1.pop()\n",
    "            stack2.append(root)\n",
    "            if root.left:\n",
    "                stack1.append(root.left)\n",
    "            if root.right:\n",
    "                stack1.append(root.right)\n",
    "        while len(stack2)>0:\n",
    "            result.append(stack.pop())\n",
    "        return result\n",
    "    \n",
    "    def levelorder(self, node, level):  # 层序循环/宽度优先遍历\n",
    "            if not node:\n",
    "                return []\n",
    "            else:\n",
    "                sol[level-1].append(node.val)\n",
    "                if len(sol) == level:  # 遍历到新层时，只有最左边的结点使得等式成立\n",
    "                    sol.append([])\n",
    "                    print(sol,level)\n",
    "                self.levelorder(node.left, level+1)\n",
    "                self.levelorder(node.right, level+1)\n",
    "\n",
    "    def levelorder_for(self,root):  # 采用循环方式:从上到下、从左到右按层遍历\n",
    "        # 先进先出选用队列结构queue\n",
    "        if root is None:\n",
    "            return []\n",
    "        queue=[root]\n",
    "        result = []\n",
    "        while len(queue)>0:\n",
    "            root = queue.pop(0)\n",
    "            result.append(root.val)\n",
    "            if root.left:\n",
    "                queue.append(root.left)\n",
    "            if root.right:\n",
    "                queue.append(root.right)\n",
    "        return result\n",
    "    \n",
    "    def treenodenums(self,root):  # 二叉树的节点个数\n",
    "        pass\n",
    "    \n",
    "    def treedeep(self,root):  #求二叉树的深度，使用递归的方式\n",
    "        if not root:\n",
    "            return 0\n",
    "        left = self.treedeep(root.left)\n",
    "        right = self.treedeep(root.right)\n",
    "        if left>=right:\n",
    "            return left+1\n",
    "        else:\n",
    "            return right+1\n",
    "    def treedeep_for(self,root):  # 非递归，使用层次遍历方式\n",
    "        if not root:\n",
    "            return 0\n",
    "        queue=[root]\n",
    "        result = [] # 层序遍历结果\n",
    "        tmp = [] # 存储同层节点\n",
    "        count = 0\n",
    "        while len(queue)>0:\n",
    "            n=len(queue) # 一层的节点数量\n",
    "            tmp=[] # 每一层清空\n",
    "            for i in range(n): # 将本层的节点数量全部释放，同时保存下一层的所有节点\n",
    "                root = queue.pop(0)\n",
    "                tmp.append(root.val)\n",
    "                if root.left:\n",
    "                    queue.append(root.left)\n",
    "                if root.right:\n",
    "                    queue.append(root.right)\n",
    "            if len(tmp)>0:\n",
    "                result+=tmp  # 将这一层的遍历结果放进result\n",
    "                count +=1  # 并且层数加1\n",
    "        return count\n",
    "    def is_balancetree(self,root):  # 判断给定的二叉树是不是一棵平衡树（左右子树的深度差不超过1）\n",
    "        if not root:     # 对每一个节点判断其左右子树的深度，从上到下；不足点就是子节点需要被遍历多次\n",
    "            return True\n",
    "        if abs(self.treedeep(root.left)-self.treedeep(root.right))>1:\n",
    "            return False\n",
    "        return is_balancetree(root.left) and is_balancetree(root.right)\n",
    "    def is_balancetree_for(self,root):  # 使用后序遍历的方式，左右中，最后才遍历根节点，因此只需要遍历一次。\n",
    "        if not root:\n",
    "            return True\n",
    "        def dif(p):  # 后序遍历\n",
    "            if not p:\n",
    "                return 0\n",
    "            left = dif(p.left)\n",
    "            if left==-1:\n",
    "                return -1\n",
    "            right = dif(p.right)\n",
    "            if right ==-1:\n",
    "                return -1\n",
    "            if abs(left-right)>1:  # 如果左右子树深度差大于1，那么就为-1\n",
    "                return -1\n",
    "            return max(left,right)+1  # 否则记录深度，从下往上，层级依次加1\n",
    "        return dif(root)!=-1 \n",
    "        \n",
    "        \n",
    "        \n",
    "        \n",
    "        \n",
    "s = Solution()\n",
    "bfsorder = [int(x) for x in input().split()]\n",
    "inorder = [int(x) for x in input().split()]\n",
    "root = s.creatTree(bfsorder, inorder)\n",
    "  \n",
    "pre = s.preorder(root)\n",
    "inorder = s.inorder(root)\n",
    "post = s.postorder(root)\n",
    "sol = [[]]\n",
    "s.levelorder(root,1)\n",
    "print('叶子节点',' '.join(list(map(str,s.leaf))))\n",
    "print('前序',' '.join(list(map(str,pre))))\n",
    "print('中序',' '.join(list(map(str,inorder))))\n",
    "print('后序',' '.join(list(map(str,post))))\n",
    "print('层序',sol[:-1])"
   ]
  },
  {
   "cell_type": "markdown",
   "metadata": {},
   "source": [
    "### 顺时针打印一个矩阵，从外到内"
   ]
  },
  {
   "cell_type": "code",
   "execution_count": 1,
   "metadata": {},
   "outputs": [
    {
     "name": "stdout",
     "output_type": "stream",
     "text": [
      "[1, 2, 3, 4, 5, 7, 6, 3, 2]\n",
      "0\n",
      "上行 [1, 2, 3, 4]\n",
      "右列 [1, 2, 3, 4, 5, 5, 1]\n",
      "左列 [1, 2, 3, 4, 5, 5, 1, 5, 7, 6, 5, 4]\n",
      "1\n",
      "上行 [1, 2, 3, 4, 5, 5, 1, 5, 7, 6, 5, 4, 3, 2]\n",
      "右列 [1, 2, 3, 4, 5, 5, 1, 5, 7, 6, 5, 4, 3, 2, 5]\n",
      "左列 [1, 2, 3, 4, 5, 5, 1, 5, 7, 6, 5, 4, 3, 2, 5, 5]\n",
      "[1, 2, 3, 4, 5, 5, 1, 5, 7, 6, 5, 4, 3, 2, 5, 5]\n"
     ]
    }
   ],
   "source": [
    "def printMatrix(matrix):\n",
    "        # write code here\n",
    "        res=[]\n",
    "        n=len(matrix)\n",
    "        m=len(matrix[0])\n",
    "        if n==1 and m==1:\n",
    "            res=[matrix[0][0]]\n",
    "            return res\n",
    "        for o in range((min(m,n)+1)//2):\n",
    "            print(o)\n",
    "            [res.append(matrix[o][i]) for i in range(o,m-o)]\n",
    "            b=len(res)\n",
    "            print('上行',res)\n",
    "            [res.append(matrix[j][m-o-1]) for j in range(o+1,n-o) ]\n",
    "            a=len(res)\n",
    "            print('右列',res)\n",
    "            if a==b:\n",
    "                break\n",
    "            [res.append(matrix[n-o-1][k]) for k in range(m-o-1-1,o-1,-1)]\n",
    "            b=len(res)\n",
    "            if a==b:\n",
    "                break\n",
    "            [res.append(matrix[l][o]) for l in range(n-o-2,o,-1)]\n",
    "            print('左列',res)\n",
    "        return res\n",
    "def reverse_matrix(matrix):\n",
    "        res=[]\n",
    "        n=len(matrix)  # 行数\n",
    "        m=len(matrix[0])  # 列数\n",
    "        if n==1 and m==1:  # 矩阵只有一个数\n",
    "            res=[matrix[0][0]]\n",
    "            return res\n",
    "        for o in range((min(m,n)+1)//2):  # 选取最短边，并且满足环的个数×2 < 最短边\n",
    "           [res.append(matrix[o][i]) for i in range(o,m-o)]  # 从左到右一行\n",
    "           [res.append(matrix[j][m-o-1]) for j in range(o,n-o) if matrix[j][m-o-1] not in res]  # 从上到下一列        \n",
    "           [res.append(matrix[n-1-o][k]) for k in range(m-1-o,o-1,-1) if matrix[n-1-o][k] not in res]  # 从右到左一行     \n",
    "           [res.append(matrix[l][o]) for l in range(n-1-o,o-1,-1) if matrix[l][o] not in res]  # 从下到上一行        \n",
    "        return res       \n",
    "matrix=[[1,2,3,4],[4,3,2,5],[5,5,5,5],[6,7,5,1]]\n",
    "print(reverse_matrix(matrix))\n",
    "print(printMatrix(matrix))"
   ]
  },
  {
   "cell_type": "markdown",
   "metadata": {},
   "source": [
    "### 二分查找"
   ]
  },
  {
   "cell_type": "code",
   "execution_count": 6,
   "metadata": {},
   "outputs": [
    {
     "name": "stdout",
     "output_type": "stream",
     "text": [
      "4\n",
      "6\n",
      "7\n",
      "get!\n",
      "7\n"
     ]
    }
   ],
   "source": [
    "def binarySearch(alist, item):\n",
    "    first = 0\n",
    "    last = len(alist) - 1\n",
    "\n",
    "    while first <= last:\n",
    "        mid = (first + last)//2\n",
    "        print(mid)\n",
    "        if alist[mid] > item:\n",
    "            last = mid - 1\n",
    "        elif alist[mid] < item:\n",
    "            first = mid + 1\n",
    "        else:\n",
    "            print('get!')\n",
    "            return mid\n",
    "    return -1\n",
    "\n",
    "test = [0, 1, 2, 8, 13, 17, 19, 32, 42]\n",
    "print(binarySearch(test, 32))"
   ]
  },
  {
   "cell_type": "code",
   "execution_count": 12,
   "metadata": {},
   "outputs": [
    {
     "name": "stdout",
     "output_type": "stream",
     "text": [
      "0加1等于1\n",
      "2\n"
     ]
    }
   ],
   "source": [
    "print('{1}加{0}等于1'.format(1,0))\n",
    "a=5\n",
    "a>>=1\n",
    "print(a)"
   ]
  },
  {
   "cell_type": "code",
   "execution_count": 16,
   "metadata": {},
   "outputs": [
    {
     "name": "stdout",
     "output_type": "stream",
     "text": [
      "6 4\n"
     ]
    }
   ],
   "source": [
    "a=[2,4,3,6,3,2,5,5]\n",
    "n=len(a)\n",
    "tmp = 0\n",
    "for i in range(n):\n",
    "    tmp^=a[i]\n",
    "index=0 # 二进制数字从最低位开始，向左数，第一个为1的下标的位置\n",
    "while tmp&1==0:\n",
    "    tmp >>= 1# 表达等于 tmp = tmp>>1 向右移动一位，实际上对于数值为tmp//2^1;如果向左移1位，那么实际上对于数值为tmp*2^1\n",
    "    index += 1\n",
    "num1,num2=0,0\n",
    "for i in range(n):\n",
    "    if (a[i]>>index)&1==1:\n",
    "        num1 ^= a[i]\n",
    "    else:\n",
    "        num2 ^= a[i]\n",
    "print(num1,num2)"
   ]
  },
  {
   "cell_type": "code",
   "execution_count": 25,
   "metadata": {},
   "outputs": [
    {
     "name": "stdout",
     "output_type": "stream",
     "text": [
      "[]\n"
     ]
    }
   ],
   "source": [
    "a=[]\n",
    "print(a)\n",
    "if a == None:\n",
    "    print('buegbiu')"
   ]
  },
  {
   "cell_type": "code",
   "execution_count": 56,
   "metadata": {},
   "outputs": [
    {
     "name": "stdout",
     "output_type": "stream",
     "text": [
      "True\n"
     ]
    }
   ],
   "source": [
    "# 题目：给定的numbers是不是连续的，其中0可以当任何数\n",
    "def IsContinuous(numbers):\n",
    "        # write code here\n",
    "        if not numbers:\n",
    "            return False\n",
    "        new=[i for i in numbers if i>0 ]\n",
    "        m=len(numbers)-len(new)\n",
    "        new.sort()\n",
    "        n=0\n",
    "        for i in range(len(new)-1):\n",
    "            if new[i+1]-new[i]>0:\n",
    "                n += new[i+1]-new[i]-1\n",
    "                i += 1\n",
    "            else:\n",
    "                return False\n",
    "        if n<=m:\n",
    "            return True\n",
    "        else:\n",
    "            return False\n",
    "nu = [1,2,5,0,0]\n",
    "print(IsContinuous(nu))"
   ]
  },
  {
   "cell_type": "code",
   "execution_count": 63,
   "metadata": {},
   "outputs": [
    {
     "name": "stdout",
     "output_type": "stream",
     "text": [
      "3\n"
     ]
    }
   ],
   "source": [
    "# 求1+2+3+...+n，要求不能使用乘法，while，for，if, else, switch, case等。\n",
    "\n",
    "def get_n_sum(n):\n",
    "    if n<2:\n",
    "        return n    \n",
    "    s=n\n",
    "      \n",
    "    return s and s+get_n_sum(n-1)  # 如果s!=0,则执行后面的运算，否则不执行后面的运算\n",
    "n=2\n",
    "print(get_n_sum(n))\n",
    "a=0\n",
    "if a is None:\n",
    "    print('cbuebc')\n",
    "    "
   ]
  },
  {
   "cell_type": "code",
   "execution_count": 65,
   "metadata": {},
   "outputs": [
    {
     "data": {
      "text/plain": [
       "4294967295"
      ]
     },
     "execution_count": 65,
     "metadata": {},
     "output_type": "execute_result"
    }
   ],
   "source": [
    "0xffffffff"
   ]
  },
  {
   "cell_type": "code",
   "execution_count": 53,
   "metadata": {},
   "outputs": [
    {
     "name": "stdout",
     "output_type": "stream",
     "text": [
      "['abcd', 'is', '', '', 'ubuntu!', '', '']\n",
      "['', '', 'ubuntu!', '', '', 'is', 'abcd']\n"
     ]
    },
    {
     "data": {
      "text/plain": [
       "'  ubuntu!   is abcd'"
      ]
     },
     "execution_count": 53,
     "metadata": {},
     "output_type": "execute_result"
    }
   ],
   "source": [
    "def ReverseSentence(s):\n",
    "        # write code here\n",
    "        if not s or len(s)<2:\n",
    "            return s\n",
    "        begin = 0\n",
    "        end = len(s)-1\n",
    "        while begin<end:\n",
    "            s[begin],s[end] = s[end],s[begin]\n",
    "            begin += 1\n",
    "            end -= 1\n",
    "        for i in range(len(s)):\n",
    "            while i<(len(s)-1) and s[i]==' ':\n",
    "                i += 1\n",
    "            begin = i\n",
    "            \n",
    "            while i<(len(s)-1) and s[i]!=' ':\n",
    "                i += 1\n",
    "            end = i-1\n",
    "            print(begin,end)\n",
    "            while begin < end:\n",
    "                s[begin],s[end]=s[end],s[begin]\n",
    "        return s\n",
    "s='abcd is   ubuntu!  '\n",
    "s=s.split(' ')\n",
    "print(s)\n",
    "s.reverse()\n",
    "print(s)\n",
    "' '.join(s)\n",
    "\n",
    "#ReverseSentence(s)"
   ]
  }
 ],
 "metadata": {
  "kernelspec": {
   "display_name": "z1",
   "language": "python",
   "name": "z1"
  },
  "language_info": {
   "codemirror_mode": {
    "name": "ipython",
    "version": 3
   },
   "file_extension": ".py",
   "mimetype": "text/x-python",
   "name": "python",
   "nbconvert_exporter": "python",
   "pygments_lexer": "ipython3",
   "version": "3.6.2"
  }
 },
 "nbformat": 4,
 "nbformat_minor": 2
}
